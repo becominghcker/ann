{
 "cells": [
  {
   "cell_type": "code",
   "execution_count": 1,
   "id": "d8bc908c-6b89-4a0e-984f-1ad203fa3da2",
   "metadata": {},
   "outputs": [
    {
     "name": "stdout",
     "output_type": "stream",
     "text": [
      "Input vector:\n",
      "[ 1  1 -1 -1]\n",
      "Output vector:\n",
      "[-1 -1 -1 -1]\n"
     ]
    }
   ],
   "source": [
    "import numpy as np\n",
    "\n",
    "# Define the 4 vectors to be stored\n",
    "vectors = np.array([[1, 1, -1, -1],\n",
    "                    [-1, -1, 1, 1],\n",
    "                    [1, -1, 1, -1],\n",
    "                    [-1, 1, -1, 1]])\n",
    "\n",
    "# Calculate the weight matrix using Hebbian learning rule\n",
    "num_vectors = vectors.shape[0]\n",
    "weights = np.zeros((4, 4))\n",
    "for i in range(num_vectors):\n",
    "    for j in range(num_vectors):\n",
    "        if i != j:\n",
    "            weights += np.outer(vectors[i], vectors[j])\n",
    "\n",
    "# Normalize the weights matrix (excluding the diagonal)\n",
    "np.fill_diagonal(weights, 0)\n",
    "\n",
    "# Define the activation function (in this case, a sign function)\n",
    "def activation(x):\n",
    "    return np.where(x >= 0, 1, -1)\n",
    "\n",
    "# Define the Hopfield network function (asynchronous update)\n",
    "def hopfield(input_vector, weights, max_iterations=10):\n",
    "    output_vector = input_vector.copy()\n",
    "    for _ in range(max_iterations):\n",
    "        # Asynchronously update the network\n",
    "        for i in range(len(output_vector)):\n",
    "            net_input = np.dot(weights[i], output_vector)\n",
    "            output_vector[i] = activation(net_input)\n",
    "    return output_vector\n",
    "\n",
    "# Test the Hopfield network with one of the stored vectors as input\n",
    "input_vector = vectors[0]\n",
    "output_vector = hopfield(input_vector, weights)\n",
    "\n",
    "print(\"Input vector:\")\n",
    "print(input_vector)\n",
    "print(\"Output vector:\")\n",
    "print(output_vector)\n"
   ]
  },
  {
   "cell_type": "code",
   "execution_count": 3,
   "id": "caedc563-ebe2-4890-9255-2ce2bab789c4",
   "metadata": {},
   "outputs": [
    {
     "name": "stdout",
     "output_type": "stream",
     "text": [
      "Input vector:\n",
      "[ 1  1 -1 -1]\n",
      "Output vector:\n",
      "[-1 -1 -1 -1]\n"
     ]
    }
   ],
   "source": [
    "import numpy as np\n",
    "\n",
    "# Define the 4 vectors to be stored\n",
    "vectors = np.array([[1, 1, -1, -1],\n",
    "                    [-1, -1, 1, 1],\n",
    "                    [1, -1, 1, -1],\n",
    "                    [-1, 1, -1, 1]])\n",
    "\n",
    "# Calculate the weight matrix using Hebbian learning rule\n",
    "num_vectors = vectors.shape[0]\n",
    "weights = np.zeros((4, 4))\n",
    "for i in range(num_vectors):\n",
    "    for j in range(num_vectors):\n",
    "        if i != j:\n",
    "            weights += np.outer(vectors[i], vectors[j])\n",
    "\n",
    "# Normalize the weights matrix (excluding the diagonal)\n",
    "np.fill_diagonal(weights, 0)\n",
    "\n",
    "# Define the activation function (in this case, a sign function)\n",
    "def activation(x):\n",
    "    return np.where(x >= 0, 1, -1)\n",
    "\n",
    "# Define the Hopfield network function (asynchronous update)\n",
    "def hopfield(input_vector, weights, max_iterations=10):\n",
    "    output_vector = input_vector.copy()\n",
    "    prev_output = np.zeros_like(output_vector)\n",
    "    \n",
    "    # Asynchronous update loop until convergence or max_iterations\n",
    "    iteration = 0\n",
    "    while not np.array_equal(output_vector, prev_output) and iteration < max_iterations:\n",
    "        prev_output = output_vector.copy()\n",
    "        for i in range(len(output_vector)):\n",
    "            net_input = np.dot(weights[i], output_vector)\n",
    "            output_vector[i] = activation(net_input)\n",
    "        iteration += 1\n",
    "        \n",
    "    return output_vector\n",
    "\n",
    "# Test the Hopfield network with one of the stored vectors as input\n",
    "input_vector = vectors[0]  # Choose the first vector from stored vectors\n",
    "output_vector = hopfield(input_vector, weights)\n",
    "\n",
    "print(\"Input vector:\")\n",
    "print(input_vector)\n",
    "print(\"Output vector:\")\n",
    "print(output_vector)\n"
   ]
  },
  {
   "cell_type": "code",
   "execution_count": 5,
   "id": "683c6f16-1175-4fe1-a279-1770de445226",
   "metadata": {},
   "outputs": [
    {
     "name": "stdout",
     "output_type": "stream",
     "text": [
      "Input vector:\n",
      "[ 1  1 -1 -1]\n",
      "Output vector:\n",
      "[-1 -1 -1 -1]\n"
     ]
    }
   ],
   "source": [
    "import numpy as np\n",
    "\n",
    "# Define the 4 vectors to be stored\n",
    "vectors = np.array([[1, 1, -1, -1],\n",
    "                    [-1, -1, 1, 1],\n",
    "                    [1, -1, 1, -1],\n",
    "                    [-1, 1, -1, 1]])\n",
    "\n",
    "# Calculate the weight matrix using Hebbian learning rule\n",
    "num_vectors = vectors.shape[0]\n",
    "weights = np.zeros((4, 4))\n",
    "for i in range(num_vectors):\n",
    "    for j in range(num_vectors):\n",
    "        if i != j:\n",
    "            weights += np.outer(vectors[i], vectors[j])\n",
    "\n",
    "# Normalize the weights matrix (excluding the diagonal)\n",
    "np.fill_diagonal(weights, 0)\n",
    "\n",
    "# Define the activation function (in this case, a sign function)\n",
    "def activation(x):\n",
    "    return np.where(x >= 0, 1, -1)\n",
    "\n",
    "# Define the Hopfield network function (asynchronous update)\n",
    "def hopfield(input_vector, weights, max_iterations=10):\n",
    "    output_vector = input_vector.copy()\n",
    "    for _ in range(max_iterations):\n",
    "        # Asynchronously update the network\n",
    "        for i in range(len(output_vector)):\n",
    "            net_input = np.dot(weights[i], output_vector)\n",
    "            output_vector[i] = activation(net_input)\n",
    "    return output_vector\n",
    "\n",
    "# Test the Hopfield network with one of the stored vectors as input\n",
    "input_vector = vectors[0]\n",
    "output_vector = hopfield(input_vector, weights)\n",
    "\n",
    "print(\"Input vector:\")\n",
    "print(input_vector)\n",
    "print(\"Output vector:\")\n",
    "print(output_vector)\n"
   ]
  }
 ],
 "metadata": {
  "kernelspec": {
   "display_name": "Python 3 (ipykernel)",
   "language": "python",
   "name": "python3"
  },
  "language_info": {
   "codemirror_mode": {
    "name": "ipython",
    "version": 3
   },
   "file_extension": ".py",
   "mimetype": "text/x-python",
   "name": "python",
   "nbconvert_exporter": "python",
   "pygments_lexer": "ipython3",
   "version": "3.12.7"
  }
 },
 "nbformat": 4,
 "nbformat_minor": 5
}
