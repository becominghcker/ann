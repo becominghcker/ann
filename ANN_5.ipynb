{
 "cells": [
  {
   "cell_type": "code",
   "execution_count": 6,
   "id": "e5e37728-8a5c-4834-b891-743e55c6d7ad",
   "metadata": {},
   "outputs": [
    {
     "name": "stdout",
     "output_type": "stream",
     "text": [
      "Input x: [ 1 -1 -1 -1]\n",
      "Recalled x: [ 1  1  1 -1]\n",
      "Recalled y: [ 1 -1]\n"
     ]
    }
   ],
   "source": [
    "import numpy as np\n",
    "\n",
    "# Training pairs\n",
    "X = np.array([[1, 1, 1, -1], [-1, -1, 1, 1]])\n",
    "Y = np.array([[1, -1], [-1, 1]])\n",
    "\n",
    "# Weight matrix using outer product\n",
    "W = np.dot(X.T, Y)\n",
    "\n",
    "# Bipolar sign function\n",
    "def sign(x):\n",
    "    return np.where(x >= 0, 1, -1)\n",
    "\n",
    "# Bidirectional recall function\n",
    "def bam_recall(x_init, iterations=5):\n",
    "    x = x_init\n",
    "    for _ in range(iterations):\n",
    "        y = sign(np.dot(x, W))\n",
    "        x = sign(np.dot(y, W.T))\n",
    "    return x, y\n",
    "\n",
    "# Test input\n",
    "x_test = np.array([1, -1, -1, -1])\n",
    "x_out, y_out = bam_recall(x_test)\n",
    "\n",
    "print(\"Input x:\", x_test)\n",
    "print(\"Recalled x:\", x_out)\n",
    "print(\"Recalled y:\", y_out)\n"
   ]
  }
 ],
 "metadata": {
  "kernelspec": {
   "display_name": "Python 3 (ipykernel)",
   "language": "python",
   "name": "python3"
  },
  "language_info": {
   "codemirror_mode": {
    "name": "ipython",
    "version": 3
   },
   "file_extension": ".py",
   "mimetype": "text/x-python",
   "name": "python",
   "nbconvert_exporter": "python",
   "pygments_lexer": "ipython3",
   "version": "3.12.7"
  }
 },
 "nbformat": 4,
 "nbformat_minor": 5
}
