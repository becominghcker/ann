{
 "cells": [
  {
   "cell_type": "code",
   "execution_count": 11,
   "id": "351f6b02-c594-43a5-9f07-c64ca94d38b2",
   "metadata": {},
   "outputs": [
    {
     "name": "stdin",
     "output_type": "stream",
     "text": [
      "Enter a number (0–9):  6\n"
     ]
    },
    {
     "name": "stdout",
     "output_type": "stream",
     "text": [
      "6 is Even\n"
     ]
    }
   ],
   "source": [
    "import numpy as np\n",
    "\n",
    "# Step function for binary classification\n",
    "def step(x):\n",
    "    return 1 if x >= 0 else 0\n",
    "\n",
    "# Prepare training data (ASCII 0-9 in 8-bit binary)\n",
    "training_inputs = []\n",
    "labels = []\n",
    "\n",
    "for i in range(10):\n",
    "    ascii_value = ord(str(i))\n",
    "    binary = format(ascii_value, '08b')\n",
    "    inputs = [int(bit) for bit in binary]\n",
    "    training_inputs.append(inputs)\n",
    "    labels.append(1 if i % 2 == 0 else 0)\n",
    "\n",
    "# Initialize weights randomly and bias\n",
    "weights = np.random.rand(8)\n",
    "bias = np.random.rand()\n",
    "learning_rate = 0.1\n",
    "epochs = 100\n",
    "\n",
    "# Train the perceptron\n",
    "for epoch in range(epochs):\n",
    "    for i in range(10):\n",
    "        x = np.array(training_inputs[i])\n",
    "        y = labels[i]\n",
    "        output = step(np.dot(x, weights) + bias)\n",
    "        error = y - output\n",
    "        weights += learning_rate * error * x\n",
    "        bias += learning_rate * error\n",
    "\n",
    "# Test the perceptron\n",
    "num = int(input(\"Enter a number (0–9): \"))\n",
    "ascii_value = ord(str(num))\n",
    "binary_input = np.array([int(bit) for bit in format(ascii_value, '08b')])\n",
    "output = step(np.dot(binary_input, weights) + bias)\n",
    "\n",
    "print(f\"{num} is {'Even' if output == 1 else 'Odd'}\")"
   ]
  }
 ],
 "metadata": {
  "kernelspec": {
   "display_name": "Python 3 (ipykernel)",
   "language": "python",
   "name": "python3"
  },
  "language_info": {
   "codemirror_mode": {
    "name": "ipython",
    "version": 3
   },
   "file_extension": ".py",
   "mimetype": "text/x-python",
   "name": "python",
   "nbconvert_exporter": "python",
   "pygments_lexer": "ipython3",
   "version": "3.12.7"
  }
 },
 "nbformat": 4,
 "nbformat_minor": 5
}
