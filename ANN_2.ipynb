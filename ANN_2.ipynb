{
 "cells": [
  {
   "cell_type": "code",
   "execution_count": 2,
   "id": "5fa5e155-3d30-4caf-aba9-dfed66ec2638",
   "metadata": {},
   "outputs": [
    {
     "name": "stdout",
     "output_type": "stream",
     "text": [
      "ANDNOT Function using McCulloch-Pitts Neuron:\n",
      "ANDNOT(0, 0) = 0\n",
      "ANDNOT(0, 1) = 0\n",
      "ANDNOT(1, 0) = 1\n",
      "ANDNOT(1, 1) = 0\n"
     ]
    }
   ],
   "source": [
    "import numpy as np\n",
    "\n",
    "def mcculloch_pitts_andnot(x1, x2):\n",
    "    weights = np.array([1, -1])\n",
    "    threshold = 1\n",
    "    net_input = np.dot(weights, [x1, x2])\n",
    "    return 1 if net_input >= threshold else 0\n",
    "\n",
    "test_cases = [(0,0), (0,1), (1,0), (1,1)]\n",
    "\n",
    "print(\"ANDNOT Function using McCulloch-Pitts Neuron:\")\n",
    "for x1, x2 in test_cases:\n",
    "    print(f\"ANDNOT({x1}, {x2}) = {mcculloch_pitts_andnot(x1, x2)}\")\n"
   ]
  }
 ],
 "metadata": {
  "kernelspec": {
   "display_name": "Python 3 (ipykernel)",
   "language": "python",
   "name": "python3"
  },
  "language_info": {
   "codemirror_mode": {
    "name": "ipython",
    "version": 3
   },
   "file_extension": ".py",
   "mimetype": "text/x-python",
   "name": "python",
   "nbconvert_exporter": "python",
   "pygments_lexer": "ipython3",
   "version": "3.12.7"
  }
 },
 "nbformat": 4,
 "nbformat_minor": 5
}
